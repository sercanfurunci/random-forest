{
  "nbformat": 4,
  "nbformat_minor": 0,
  "metadata": {
    "colab": {
      "name": "rf.ipynb",
      "provenance": []
    },
    "kernelspec": {
      "name": "python3",
      "display_name": "Python 3"
    },
    "language_info": {
      "name": "python"
    }
  },
  "cells": [
    {
      "cell_type": "code",
      "execution_count": 3,
      "metadata": {
        "id": "h5ARChV-aoiU"
      },
      "outputs": [],
      "source": [
        "import pandas as pd\n",
        "import numpy as np\n",
        "#%%  import data\n",
        "\n",
        "data = pd.read_csv(\"data.csv\")\n",
        "data.drop([\"id\",\"Unnamed: 32\"],axis=1,inplace = True)"
      ]
    },
    {
      "cell_type": "code",
      "source": [
        "# %%\n",
        "data.diagnosis = [ 1 if each == \"M\" else 0 for each in data.diagnosis]\n",
        "y = data.diagnosis.values\n",
        "x_data = data.drop([\"diagnosis\"],axis=1)\n",
        "#%% normalization\n",
        "\n",
        "x = (x_data - np.min(x_data))/(np.max(x_data)-np.min(x_data))"
      ],
      "metadata": {
        "id": "pZMtvmFmatI9"
      },
      "execution_count": 4,
      "outputs": []
    },
    {
      "cell_type": "code",
      "source": [
        "# %% train test split\n",
        "from sklearn.model_selection import train_test_split\n",
        "x_train, x_test,y_train, y_test = train_test_split(x,y,test_size = 0.45,random_state = 12)"
      ],
      "metadata": {
        "id": "vV1EjK8Uawd7"
      },
      "execution_count": 15,
      "outputs": []
    },
    {
      "cell_type": "code",
      "source": [
        "#%% decision tree\n",
        "from sklearn.tree import DecisionTreeClassifier\n",
        "dt = DecisionTreeClassifier()\n",
        "dt.fit(x_train,y_train)\n",
        "print(\"decision tree score: \", dt.score(x_test,y_test))"
      ],
      "metadata": {
        "colab": {
          "base_uri": "https://localhost:8080/"
        },
        "id": "bEtLN-bYa2Pu",
        "outputId": "b2a00d89-8315-4396-f14d-5f3d19339783"
      },
      "execution_count": 8,
      "outputs": [
        {
          "output_type": "stream",
          "name": "stdout",
          "text": [
            "decision tree score:  0.9186046511627907\n"
          ]
        }
      ]
    },
    {
      "cell_type": "code",
      "source": [
        "#%%  random forest\n",
        "from sklearn.ensemble import RandomForestClassifier\n",
        "\n",
        "rf = RandomForestClassifier(n_estimators = 150,random_state = 10)\n",
        "rf.fit(x_train,y_train)\n",
        "print(\"random forest algo result: \",rf.score(x_test,y_test))"
      ],
      "metadata": {
        "colab": {
          "base_uri": "https://localhost:8080/"
        },
        "id": "Qq32Whn_a3x7",
        "outputId": "0572799d-a0b1-45ff-86e4-3c28c6e57048"
      },
      "execution_count": 12,
      "outputs": [
        {
          "output_type": "stream",
          "name": "stdout",
          "text": [
            "random forest algo result:  0.9534883720930233\n"
          ]
        }
      ]
    }
  ]
}